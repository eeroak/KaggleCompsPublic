{
 "cells": [
  {
   "cell_type": "markdown",
   "id": "341ab261",
   "metadata": {
    "papermill": {
     "duration": 0.004927,
     "end_time": "2024-07-24T23:07:26.695347",
     "exception": false,
     "start_time": "2024-07-24T23:07:26.690420",
     "status": "completed"
    },
    "tags": []
   },
   "source": [
    "In this competition your task is to predict whether a passenger was transported to an alternate dimension during the Spaceship Titanic's collision with the spacetime anomaly. To help you make these predictions, you're given a set of personal records recovered from the ship's damaged computer system.  \n",
    "\n",
    "** *File and Data Field Descriptions* **\n",
    "\n",
    "**train.csv** - Personal records for about two-thirds (~8700) of the passengers, to be used as training data.  \n",
    "**PassengerId** - A unique Id for each passenger. Each Id takes the form gggg_pp where gggg indicates a group the passenger is travelling with and pp is their number within the group. People in a group are often family members, but not always.  \n",
    "**HomePlanet** - The planet the passenger departed from, typically their planet of permanent residence.  \n",
    "**CryoSleep** - Indicates whether the passenger elected to be put into suspended animation for the duration of the voyage.   **Passengers** in cryosleep are confined to their cabins.  \n",
    "**Cabin** - The cabin number where the passenger is staying. Takes the form deck/num/side, where side can be either P for Port or S for Starboard.  \n",
    "**Destination** - The planet the passenger will be debarking to.  \n",
    "**Age** - The age of the passenger.  \n",
    "**VIP** - Whether the passenger has paid for special VIP service during the voyage.  \n",
    "**RoomService, FoodCourt, ShoppingMall, Spa, VRDeck** - Amount the passenger has billed at each of the Spaceship Titanic's many luxury amenities.  \n",
    "**Name** - The first and last names of the passenger.  \n",
    "**Transported** - Whether the passenger was transported to another dimension. This is the target, the column you are trying to predict  \n",
    "\n",
    "**test.csv** - Personal records for the remaining one-third (~4300) of the passengers, to be used as test data. Your task is to predict the value of Transported for the passengers in this set.  \n",
    "\n",
    "**sample_submission.csv** - A submission file in the correct format.  \n",
    "**PassengerId **- Id for each passenger in the test set.  \n",
    "**Transported **- The target. For each passenger, predict either True or False.  "
   ]
  },
  {
   "cell_type": "code",
   "execution_count": 1,
   "id": "730fc1ce",
   "metadata": {
    "_cell_guid": "b1076dfc-b9ad-4769-8c92-a6c4dae69d19",
    "_uuid": "8f2839f25d086af736a60e9eeb907d3b93b6e0e5",
    "execution": {
     "iopub.execute_input": "2024-07-24T23:07:26.707192Z",
     "iopub.status.busy": "2024-07-24T23:07:26.706710Z",
     "iopub.status.idle": "2024-07-24T23:07:32.365092Z",
     "shell.execute_reply": "2024-07-24T23:07:32.364003Z"
    },
    "papermill": {
     "duration": 5.666972,
     "end_time": "2024-07-24T23:07:32.367542",
     "exception": false,
     "start_time": "2024-07-24T23:07:26.700570",
     "status": "completed"
    },
    "tags": []
   },
   "outputs": [
    {
     "name": "stdout",
     "output_type": "stream",
     "text": [
      "/kaggle/input/spaceship-titanic/sample_submission.csv\n",
      "/kaggle/input/spaceship-titanic/train.csv\n",
      "/kaggle/input/spaceship-titanic/test.csv\n"
     ]
    }
   ],
   "source": [
    "# Imports\n",
    "import os\n",
    "import torch\n",
    "import torch.nn as nn\n",
    "import torch.optim as optim\n",
    "from torch.utils.data import Dataset, DataLoader\n",
    "import numpy as np\n",
    "import pandas as pd \n",
    "import seaborn as sns\n",
    "import matplotlib.pyplot as plt\n",
    "\n",
    "# Display input folder contents (data-sets()\n",
    "for dirname, _, filenames in os.walk('/kaggle/input'):\n",
    "    for filename in filenames:\n",
    "        print(os.path.join(dirname, filename))"
   ]
  },
  {
   "cell_type": "code",
   "execution_count": 2,
   "id": "bccb5ff2",
   "metadata": {
    "execution": {
     "iopub.execute_input": "2024-07-24T23:07:32.379172Z",
     "iopub.status.busy": "2024-07-24T23:07:32.378204Z",
     "iopub.status.idle": "2024-07-24T23:07:32.470955Z",
     "shell.execute_reply": "2024-07-24T23:07:32.469448Z"
    },
    "papermill": {
     "duration": 0.101179,
     "end_time": "2024-07-24T23:07:32.473441",
     "exception": false,
     "start_time": "2024-07-24T23:07:32.372262",
     "status": "completed"
    },
    "tags": []
   },
   "outputs": [
    {
     "name": "stdout",
     "output_type": "stream",
     "text": [
      "Train shape is (8693, 14)\n",
      "Test shape is (4277, 13)\n"
     ]
    }
   ],
   "source": [
    "# Read the training data into a pandas dataframe\n",
    "train = pd.read_csv(\"/kaggle/input/spaceship-titanic/train.csv\")\n",
    "test = pd.read_csv(\"/kaggle/input/spaceship-titanic/test.csv\")\n",
    "print(\"Train shape is {}\".format(train.shape))\n",
    "print(\"Test shape is {}\".format(test.shape))"
   ]
  },
  {
   "cell_type": "code",
   "execution_count": 3,
   "id": "f7dc3027",
   "metadata": {
    "execution": {
     "iopub.execute_input": "2024-07-24T23:07:32.484698Z",
     "iopub.status.busy": "2024-07-24T23:07:32.484308Z",
     "iopub.status.idle": "2024-07-24T23:07:32.518801Z",
     "shell.execute_reply": "2024-07-24T23:07:32.517713Z"
    },
    "papermill": {
     "duration": 0.042684,
     "end_time": "2024-07-24T23:07:32.521109",
     "exception": false,
     "start_time": "2024-07-24T23:07:32.478425",
     "status": "completed"
    },
    "tags": []
   },
   "outputs": [
    {
     "data": {
      "text/html": [
       "<div>\n",
       "<style scoped>\n",
       "    .dataframe tbody tr th:only-of-type {\n",
       "        vertical-align: middle;\n",
       "    }\n",
       "\n",
       "    .dataframe tbody tr th {\n",
       "        vertical-align: top;\n",
       "    }\n",
       "\n",
       "    .dataframe thead th {\n",
       "        text-align: right;\n",
       "    }\n",
       "</style>\n",
       "<table border=\"1\" class=\"dataframe\">\n",
       "  <thead>\n",
       "    <tr style=\"text-align: right;\">\n",
       "      <th></th>\n",
       "      <th>PassengerId</th>\n",
       "      <th>HomePlanet</th>\n",
       "      <th>CryoSleep</th>\n",
       "      <th>Cabin</th>\n",
       "      <th>Destination</th>\n",
       "      <th>Age</th>\n",
       "      <th>VIP</th>\n",
       "      <th>RoomService</th>\n",
       "      <th>FoodCourt</th>\n",
       "      <th>ShoppingMall</th>\n",
       "      <th>Spa</th>\n",
       "      <th>VRDeck</th>\n",
       "      <th>Name</th>\n",
       "      <th>Transported</th>\n",
       "    </tr>\n",
       "  </thead>\n",
       "  <tbody>\n",
       "    <tr>\n",
       "      <th>0</th>\n",
       "      <td>0001_01</td>\n",
       "      <td>Europa</td>\n",
       "      <td>False</td>\n",
       "      <td>B/0/P</td>\n",
       "      <td>TRAPPIST-1e</td>\n",
       "      <td>39.0</td>\n",
       "      <td>False</td>\n",
       "      <td>0.0</td>\n",
       "      <td>0.0</td>\n",
       "      <td>0.0</td>\n",
       "      <td>0.0</td>\n",
       "      <td>0.0</td>\n",
       "      <td>Maham Ofracculy</td>\n",
       "      <td>False</td>\n",
       "    </tr>\n",
       "    <tr>\n",
       "      <th>1</th>\n",
       "      <td>0002_01</td>\n",
       "      <td>Earth</td>\n",
       "      <td>False</td>\n",
       "      <td>F/0/S</td>\n",
       "      <td>TRAPPIST-1e</td>\n",
       "      <td>24.0</td>\n",
       "      <td>False</td>\n",
       "      <td>109.0</td>\n",
       "      <td>9.0</td>\n",
       "      <td>25.0</td>\n",
       "      <td>549.0</td>\n",
       "      <td>44.0</td>\n",
       "      <td>Juanna Vines</td>\n",
       "      <td>True</td>\n",
       "    </tr>\n",
       "    <tr>\n",
       "      <th>2</th>\n",
       "      <td>0003_01</td>\n",
       "      <td>Europa</td>\n",
       "      <td>False</td>\n",
       "      <td>A/0/S</td>\n",
       "      <td>TRAPPIST-1e</td>\n",
       "      <td>58.0</td>\n",
       "      <td>True</td>\n",
       "      <td>43.0</td>\n",
       "      <td>3576.0</td>\n",
       "      <td>0.0</td>\n",
       "      <td>6715.0</td>\n",
       "      <td>49.0</td>\n",
       "      <td>Altark Susent</td>\n",
       "      <td>False</td>\n",
       "    </tr>\n",
       "    <tr>\n",
       "      <th>3</th>\n",
       "      <td>0003_02</td>\n",
       "      <td>Europa</td>\n",
       "      <td>False</td>\n",
       "      <td>A/0/S</td>\n",
       "      <td>TRAPPIST-1e</td>\n",
       "      <td>33.0</td>\n",
       "      <td>False</td>\n",
       "      <td>0.0</td>\n",
       "      <td>1283.0</td>\n",
       "      <td>371.0</td>\n",
       "      <td>3329.0</td>\n",
       "      <td>193.0</td>\n",
       "      <td>Solam Susent</td>\n",
       "      <td>False</td>\n",
       "    </tr>\n",
       "    <tr>\n",
       "      <th>4</th>\n",
       "      <td>0004_01</td>\n",
       "      <td>Earth</td>\n",
       "      <td>False</td>\n",
       "      <td>F/1/S</td>\n",
       "      <td>TRAPPIST-1e</td>\n",
       "      <td>16.0</td>\n",
       "      <td>False</td>\n",
       "      <td>303.0</td>\n",
       "      <td>70.0</td>\n",
       "      <td>151.0</td>\n",
       "      <td>565.0</td>\n",
       "      <td>2.0</td>\n",
       "      <td>Willy Santantines</td>\n",
       "      <td>True</td>\n",
       "    </tr>\n",
       "    <tr>\n",
       "      <th>5</th>\n",
       "      <td>0005_01</td>\n",
       "      <td>Earth</td>\n",
       "      <td>False</td>\n",
       "      <td>F/0/P</td>\n",
       "      <td>PSO J318.5-22</td>\n",
       "      <td>44.0</td>\n",
       "      <td>False</td>\n",
       "      <td>0.0</td>\n",
       "      <td>483.0</td>\n",
       "      <td>0.0</td>\n",
       "      <td>291.0</td>\n",
       "      <td>0.0</td>\n",
       "      <td>Sandie Hinetthews</td>\n",
       "      <td>True</td>\n",
       "    </tr>\n",
       "    <tr>\n",
       "      <th>6</th>\n",
       "      <td>0006_01</td>\n",
       "      <td>Earth</td>\n",
       "      <td>False</td>\n",
       "      <td>F/2/S</td>\n",
       "      <td>TRAPPIST-1e</td>\n",
       "      <td>26.0</td>\n",
       "      <td>False</td>\n",
       "      <td>42.0</td>\n",
       "      <td>1539.0</td>\n",
       "      <td>3.0</td>\n",
       "      <td>0.0</td>\n",
       "      <td>0.0</td>\n",
       "      <td>Billex Jacostaffey</td>\n",
       "      <td>True</td>\n",
       "    </tr>\n",
       "    <tr>\n",
       "      <th>7</th>\n",
       "      <td>0006_02</td>\n",
       "      <td>Earth</td>\n",
       "      <td>True</td>\n",
       "      <td>G/0/S</td>\n",
       "      <td>TRAPPIST-1e</td>\n",
       "      <td>28.0</td>\n",
       "      <td>False</td>\n",
       "      <td>0.0</td>\n",
       "      <td>0.0</td>\n",
       "      <td>0.0</td>\n",
       "      <td>0.0</td>\n",
       "      <td>NaN</td>\n",
       "      <td>Candra Jacostaffey</td>\n",
       "      <td>True</td>\n",
       "    </tr>\n",
       "    <tr>\n",
       "      <th>8</th>\n",
       "      <td>0007_01</td>\n",
       "      <td>Earth</td>\n",
       "      <td>False</td>\n",
       "      <td>F/3/S</td>\n",
       "      <td>TRAPPIST-1e</td>\n",
       "      <td>35.0</td>\n",
       "      <td>False</td>\n",
       "      <td>0.0</td>\n",
       "      <td>785.0</td>\n",
       "      <td>17.0</td>\n",
       "      <td>216.0</td>\n",
       "      <td>0.0</td>\n",
       "      <td>Andona Beston</td>\n",
       "      <td>True</td>\n",
       "    </tr>\n",
       "    <tr>\n",
       "      <th>9</th>\n",
       "      <td>0008_01</td>\n",
       "      <td>Europa</td>\n",
       "      <td>True</td>\n",
       "      <td>B/1/P</td>\n",
       "      <td>55 Cancri e</td>\n",
       "      <td>14.0</td>\n",
       "      <td>False</td>\n",
       "      <td>0.0</td>\n",
       "      <td>0.0</td>\n",
       "      <td>0.0</td>\n",
       "      <td>0.0</td>\n",
       "      <td>0.0</td>\n",
       "      <td>Erraiam Flatic</td>\n",
       "      <td>True</td>\n",
       "    </tr>\n",
       "  </tbody>\n",
       "</table>\n",
       "</div>"
      ],
      "text/plain": [
       "  PassengerId HomePlanet CryoSleep  Cabin    Destination   Age    VIP  \\\n",
       "0     0001_01     Europa     False  B/0/P    TRAPPIST-1e  39.0  False   \n",
       "1     0002_01      Earth     False  F/0/S    TRAPPIST-1e  24.0  False   \n",
       "2     0003_01     Europa     False  A/0/S    TRAPPIST-1e  58.0   True   \n",
       "3     0003_02     Europa     False  A/0/S    TRAPPIST-1e  33.0  False   \n",
       "4     0004_01      Earth     False  F/1/S    TRAPPIST-1e  16.0  False   \n",
       "5     0005_01      Earth     False  F/0/P  PSO J318.5-22  44.0  False   \n",
       "6     0006_01      Earth     False  F/2/S    TRAPPIST-1e  26.0  False   \n",
       "7     0006_02      Earth      True  G/0/S    TRAPPIST-1e  28.0  False   \n",
       "8     0007_01      Earth     False  F/3/S    TRAPPIST-1e  35.0  False   \n",
       "9     0008_01     Europa      True  B/1/P    55 Cancri e  14.0  False   \n",
       "\n",
       "   RoomService  FoodCourt  ShoppingMall     Spa  VRDeck                Name  \\\n",
       "0          0.0        0.0           0.0     0.0     0.0     Maham Ofracculy   \n",
       "1        109.0        9.0          25.0   549.0    44.0        Juanna Vines   \n",
       "2         43.0     3576.0           0.0  6715.0    49.0       Altark Susent   \n",
       "3          0.0     1283.0         371.0  3329.0   193.0        Solam Susent   \n",
       "4        303.0       70.0         151.0   565.0     2.0   Willy Santantines   \n",
       "5          0.0      483.0           0.0   291.0     0.0   Sandie Hinetthews   \n",
       "6         42.0     1539.0           3.0     0.0     0.0  Billex Jacostaffey   \n",
       "7          0.0        0.0           0.0     0.0     NaN  Candra Jacostaffey   \n",
       "8          0.0      785.0          17.0   216.0     0.0       Andona Beston   \n",
       "9          0.0        0.0           0.0     0.0     0.0      Erraiam Flatic   \n",
       "\n",
       "   Transported  \n",
       "0        False  \n",
       "1         True  \n",
       "2        False  \n",
       "3        False  \n",
       "4         True  \n",
       "5         True  \n",
       "6         True  \n",
       "7         True  \n",
       "8         True  \n",
       "9         True  "
      ]
     },
     "execution_count": 3,
     "metadata": {},
     "output_type": "execute_result"
    }
   ],
   "source": [
    "# First 5 data entries\n",
    "train.head(10)"
   ]
  },
  {
   "cell_type": "code",
   "execution_count": 4,
   "id": "01707a69",
   "metadata": {
    "execution": {
     "iopub.execute_input": "2024-07-24T23:07:32.533458Z",
     "iopub.status.busy": "2024-07-24T23:07:32.533089Z",
     "iopub.status.idle": "2024-07-24T23:07:32.566451Z",
     "shell.execute_reply": "2024-07-24T23:07:32.565363Z"
    },
    "papermill": {
     "duration": 0.042495,
     "end_time": "2024-07-24T23:07:32.568904",
     "exception": false,
     "start_time": "2024-07-24T23:07:32.526409",
     "status": "completed"
    },
    "tags": []
   },
   "outputs": [
    {
     "data": {
      "text/html": [
       "<div>\n",
       "<style scoped>\n",
       "    .dataframe tbody tr th:only-of-type {\n",
       "        vertical-align: middle;\n",
       "    }\n",
       "\n",
       "    .dataframe tbody tr th {\n",
       "        vertical-align: top;\n",
       "    }\n",
       "\n",
       "    .dataframe thead th {\n",
       "        text-align: right;\n",
       "    }\n",
       "</style>\n",
       "<table border=\"1\" class=\"dataframe\">\n",
       "  <thead>\n",
       "    <tr style=\"text-align: right;\">\n",
       "      <th></th>\n",
       "      <th>Age</th>\n",
       "      <th>RoomService</th>\n",
       "      <th>FoodCourt</th>\n",
       "      <th>ShoppingMall</th>\n",
       "      <th>Spa</th>\n",
       "      <th>VRDeck</th>\n",
       "    </tr>\n",
       "  </thead>\n",
       "  <tbody>\n",
       "    <tr>\n",
       "      <th>count</th>\n",
       "      <td>8514.000000</td>\n",
       "      <td>8512.000000</td>\n",
       "      <td>8510.000000</td>\n",
       "      <td>8485.000000</td>\n",
       "      <td>8510.000000</td>\n",
       "      <td>8505.000000</td>\n",
       "    </tr>\n",
       "    <tr>\n",
       "      <th>mean</th>\n",
       "      <td>28.827930</td>\n",
       "      <td>224.687617</td>\n",
       "      <td>458.077203</td>\n",
       "      <td>173.729169</td>\n",
       "      <td>311.138778</td>\n",
       "      <td>304.854791</td>\n",
       "    </tr>\n",
       "    <tr>\n",
       "      <th>std</th>\n",
       "      <td>14.489021</td>\n",
       "      <td>666.717663</td>\n",
       "      <td>1611.489240</td>\n",
       "      <td>604.696458</td>\n",
       "      <td>1136.705535</td>\n",
       "      <td>1145.717189</td>\n",
       "    </tr>\n",
       "    <tr>\n",
       "      <th>min</th>\n",
       "      <td>0.000000</td>\n",
       "      <td>0.000000</td>\n",
       "      <td>0.000000</td>\n",
       "      <td>0.000000</td>\n",
       "      <td>0.000000</td>\n",
       "      <td>0.000000</td>\n",
       "    </tr>\n",
       "    <tr>\n",
       "      <th>25%</th>\n",
       "      <td>19.000000</td>\n",
       "      <td>0.000000</td>\n",
       "      <td>0.000000</td>\n",
       "      <td>0.000000</td>\n",
       "      <td>0.000000</td>\n",
       "      <td>0.000000</td>\n",
       "    </tr>\n",
       "    <tr>\n",
       "      <th>50%</th>\n",
       "      <td>27.000000</td>\n",
       "      <td>0.000000</td>\n",
       "      <td>0.000000</td>\n",
       "      <td>0.000000</td>\n",
       "      <td>0.000000</td>\n",
       "      <td>0.000000</td>\n",
       "    </tr>\n",
       "    <tr>\n",
       "      <th>75%</th>\n",
       "      <td>38.000000</td>\n",
       "      <td>47.000000</td>\n",
       "      <td>76.000000</td>\n",
       "      <td>27.000000</td>\n",
       "      <td>59.000000</td>\n",
       "      <td>46.000000</td>\n",
       "    </tr>\n",
       "    <tr>\n",
       "      <th>max</th>\n",
       "      <td>79.000000</td>\n",
       "      <td>14327.000000</td>\n",
       "      <td>29813.000000</td>\n",
       "      <td>23492.000000</td>\n",
       "      <td>22408.000000</td>\n",
       "      <td>24133.000000</td>\n",
       "    </tr>\n",
       "  </tbody>\n",
       "</table>\n",
       "</div>"
      ],
      "text/plain": [
       "               Age   RoomService     FoodCourt  ShoppingMall           Spa  \\\n",
       "count  8514.000000   8512.000000   8510.000000   8485.000000   8510.000000   \n",
       "mean     28.827930    224.687617    458.077203    173.729169    311.138778   \n",
       "std      14.489021    666.717663   1611.489240    604.696458   1136.705535   \n",
       "min       0.000000      0.000000      0.000000      0.000000      0.000000   \n",
       "25%      19.000000      0.000000      0.000000      0.000000      0.000000   \n",
       "50%      27.000000      0.000000      0.000000      0.000000      0.000000   \n",
       "75%      38.000000     47.000000     76.000000     27.000000     59.000000   \n",
       "max      79.000000  14327.000000  29813.000000  23492.000000  22408.000000   \n",
       "\n",
       "             VRDeck  \n",
       "count   8505.000000  \n",
       "mean     304.854791  \n",
       "std     1145.717189  \n",
       "min        0.000000  \n",
       "25%        0.000000  \n",
       "50%        0.000000  \n",
       "75%       46.000000  \n",
       "max    24133.000000  "
      ]
     },
     "execution_count": 4,
     "metadata": {},
     "output_type": "execute_result"
    }
   ],
   "source": [
    "train.describe()"
   ]
  },
  {
   "cell_type": "code",
   "execution_count": 5,
   "id": "80fb7035",
   "metadata": {
    "execution": {
     "iopub.execute_input": "2024-07-24T23:07:32.581518Z",
     "iopub.status.busy": "2024-07-24T23:07:32.581154Z",
     "iopub.status.idle": "2024-07-24T23:07:32.608480Z",
     "shell.execute_reply": "2024-07-24T23:07:32.607244Z"
    },
    "papermill": {
     "duration": 0.036626,
     "end_time": "2024-07-24T23:07:32.611070",
     "exception": false,
     "start_time": "2024-07-24T23:07:32.574444",
     "status": "completed"
    },
    "tags": []
   },
   "outputs": [
    {
     "name": "stdout",
     "output_type": "stream",
     "text": [
      "<class 'pandas.core.frame.DataFrame'>\n",
      "RangeIndex: 8693 entries, 0 to 8692\n",
      "Data columns (total 14 columns):\n",
      " #   Column        Non-Null Count  Dtype  \n",
      "---  ------        --------------  -----  \n",
      " 0   PassengerId   8693 non-null   object \n",
      " 1   HomePlanet    8492 non-null   object \n",
      " 2   CryoSleep     8476 non-null   object \n",
      " 3   Cabin         8494 non-null   object \n",
      " 4   Destination   8511 non-null   object \n",
      " 5   Age           8514 non-null   float64\n",
      " 6   VIP           8490 non-null   object \n",
      " 7   RoomService   8512 non-null   float64\n",
      " 8   FoodCourt     8510 non-null   float64\n",
      " 9   ShoppingMall  8485 non-null   float64\n",
      " 10  Spa           8510 non-null   float64\n",
      " 11  VRDeck        8505 non-null   float64\n",
      " 12  Name          8493 non-null   object \n",
      " 13  Transported   8693 non-null   bool   \n",
      "dtypes: bool(1), float64(6), object(7)\n",
      "memory usage: 891.5+ KB\n"
     ]
    }
   ],
   "source": [
    "train.info()"
   ]
  },
  {
   "cell_type": "code",
   "execution_count": 6,
   "id": "5576d9c7",
   "metadata": {
    "execution": {
     "iopub.execute_input": "2024-07-24T23:07:32.624289Z",
     "iopub.status.busy": "2024-07-24T23:07:32.623867Z",
     "iopub.status.idle": "2024-07-24T23:07:32.647405Z",
     "shell.execute_reply": "2024-07-24T23:07:32.646060Z"
    },
    "papermill": {
     "duration": 0.033101,
     "end_time": "2024-07-24T23:07:32.650016",
     "exception": false,
     "start_time": "2024-07-24T23:07:32.616915",
     "status": "completed"
    },
    "tags": []
   },
   "outputs": [
    {
     "name": "stdout",
     "output_type": "stream",
     "text": [
      "PassengerId       0\n",
      "HomePlanet      201\n",
      "CryoSleep       217\n",
      "Cabin           199\n",
      "Destination     182\n",
      "Age             179\n",
      "VIP             203\n",
      "RoomService     181\n",
      "FoodCourt       183\n",
      "ShoppingMall    208\n",
      "Spa             183\n",
      "VRDeck          188\n",
      "Name            200\n",
      "Transported       0\n",
      "dtype: int64\n",
      "Dupes: 0\n"
     ]
    }
   ],
   "source": [
    "# Check NaN & Dupe values\n",
    "print(train.isna().sum())\n",
    "print(\"Dupes:\", train.duplicated().sum()) # no dupes"
   ]
  },
  {
   "cell_type": "code",
   "execution_count": 7,
   "id": "c7ec0725",
   "metadata": {
    "execution": {
     "iopub.execute_input": "2024-07-24T23:07:32.664095Z",
     "iopub.status.busy": "2024-07-24T23:07:32.662841Z",
     "iopub.status.idle": "2024-07-24T23:07:32.685951Z",
     "shell.execute_reply": "2024-07-24T23:07:32.684710Z"
    },
    "papermill": {
     "duration": 0.032546,
     "end_time": "2024-07-24T23:07:32.688277",
     "exception": false,
     "start_time": "2024-07-24T23:07:32.655731",
     "status": "completed"
    },
    "tags": []
   },
   "outputs": [
    {
     "data": {
      "text/plain": [
       "HomePlanet      201\n",
       "Cabin           199\n",
       "Destination     182\n",
       "RoomService     181\n",
       "Age             179\n",
       "CryoSleep         0\n",
       "VIP               0\n",
       "FoodCourt         0\n",
       "ShoppingMall      0\n",
       "Spa               0\n",
       "VRDeck            0\n",
       "Transported       0\n",
       "dtype: int64"
      ]
     },
     "execution_count": 7,
     "metadata": {},
     "output_type": "execute_result"
    }
   ],
   "source": [
    "train = train.drop(['PassengerId', 'Name'], axis=1)\n",
    "train[['VIP', 'CryoSleep', 'FoodCourt', 'ShoppingMall', 'Spa', 'VRDeck']] = train[['VIP', 'CryoSleep', 'FoodCourt', 'ShoppingMall', 'Spa', 'VRDeck']].fillna(value=0)\n",
    "train.isnull().sum().sort_values(ascending=False)"
   ]
  },
  {
   "cell_type": "code",
   "execution_count": 8,
   "id": "51ffa340",
   "metadata": {
    "execution": {
     "iopub.execute_input": "2024-07-24T23:07:32.701748Z",
     "iopub.status.busy": "2024-07-24T23:07:32.701310Z",
     "iopub.status.idle": "2024-07-24T23:07:32.868214Z",
     "shell.execute_reply": "2024-07-24T23:07:32.866792Z"
    },
    "papermill": {
     "duration": 0.177491,
     "end_time": "2024-07-24T23:07:32.871682",
     "exception": false,
     "start_time": "2024-07-24T23:07:32.694191",
     "status": "completed"
    },
    "tags": []
   },
   "outputs": [
    {
     "data": {
      "text/plain": [
       "<Axes: ylabel='count'>"
      ]
     },
     "execution_count": 8,
     "metadata": {},
     "output_type": "execute_result"
    },
    {
     "data": {
      "image/png": "[encoded data removed]",
      "text/plain": [
       "<Figure size 640x480 with 1 Axes>"
      ]
     },
     "metadata": {},
     "output_type": "display_data"
    }
   ],
   "source": [
    "plot_train = train.Transported.value_counts()\n",
    "plot_train.plot(kind=\"pie\")"
   ]
  },
  {
   "cell_type": "code",
   "execution_count": 9,
   "id": "dc9e394a",
   "metadata": {
    "execution": {
     "iopub.execute_input": "2024-07-24T23:07:32.895894Z",
     "iopub.status.busy": "2024-07-24T23:07:32.895008Z",
     "iopub.status.idle": "2024-07-24T23:07:34.585847Z",
     "shell.execute_reply": "2024-07-24T23:07:34.584375Z"
    },
    "papermill": {
     "duration": 1.706476,
     "end_time": "2024-07-24T23:07:34.588712",
     "exception": false,
     "start_time": "2024-07-24T23:07:32.882236",
     "status": "completed"
    },
    "tags": []
   },
   "outputs": [
    {
     "name": "stderr",
     "output_type": "stream",
     "text": [
      "/opt/conda/lib/python3.10/site-packages/seaborn/_oldcore.py:1119: FutureWarning: use_inf_as_na option is deprecated and will be removed in a future version. Convert inf values to NaN before operating instead.\n",
      "  with pd.option_context('mode.use_inf_as_na', True):\n",
      "/opt/conda/lib/python3.10/site-packages/seaborn/_oldcore.py:1119: FutureWarning: use_inf_as_na option is deprecated and will be removed in a future version. Convert inf values to NaN before operating instead.\n",
      "  with pd.option_context('mode.use_inf_as_na', True):\n",
      "/opt/conda/lib/python3.10/site-packages/seaborn/_oldcore.py:1119: FutureWarning: use_inf_as_na option is deprecated and will be removed in a future version. Convert inf values to NaN before operating instead.\n",
      "  with pd.option_context('mode.use_inf_as_na', True):\n",
      "/opt/conda/lib/python3.10/site-packages/seaborn/_oldcore.py:1119: FutureWarning: use_inf_as_na option is deprecated and will be removed in a future version. Convert inf values to NaN before operating instead.\n",
      "  with pd.option_context('mode.use_inf_as_na', True):\n",
      "/opt/conda/lib/python3.10/site-packages/seaborn/_oldcore.py:1119: FutureWarning: use_inf_as_na option is deprecated and will be removed in a future version. Convert inf values to NaN before operating instead.\n",
      "  with pd.option_context('mode.use_inf_as_na', True):\n"
     ]
    },
    {
     "data": {
      "image/png": "[encoded data removed]",
      "text/plain": [
       "<Figure size 1000x1000 with 5 Axes>"
      ]
     },
     "metadata": {},
     "output_type": "display_data"
    }
   ],
   "source": [
    "fig, ax = plt.subplots(5,1,  figsize=(10, 10))\n",
    "plt.subplots_adjust(top = 2)\n",
    "\n",
    "sns.histplot(train['Age'], color='b', bins=50, ax=ax[0]);\n",
    "sns.histplot(train['FoodCourt'], color='b', bins=50, ax=ax[1]);\n",
    "sns.histplot(train['ShoppingMall'], color='g', bins=50, ax=ax[2]);\n",
    "sns.histplot(train['Spa'], color='y', bins=50, ax=ax[3]);\n",
    "sns.histplot(train['VRDeck'], color='r', bins=50, ax=ax[4]);"
   ]
  },
  {
   "cell_type": "code",
   "execution_count": 10,
   "id": "7a8104b1",
   "metadata": {
    "execution": {
     "iopub.execute_input": "2024-07-24T23:07:34.606893Z",
     "iopub.status.busy": "2024-07-24T23:07:34.606458Z",
     "iopub.status.idle": "2024-07-24T23:07:34.630801Z",
     "shell.execute_reply": "2024-07-24T23:07:34.629572Z"
    },
    "papermill": {
     "duration": 0.036597,
     "end_time": "2024-07-24T23:07:34.633469",
     "exception": false,
     "start_time": "2024-07-24T23:07:34.596872",
     "status": "completed"
    },
    "tags": []
   },
   "outputs": [],
   "source": [
    "# Converting booleans to int\n",
    "train[\"Transported\"] = train[\"Transported\"].astype(int)\n",
    "train['VIP'] = train['VIP'].astype(int)\n",
    "train['CryoSleep'] = train['CryoSleep'].astype(int)\n",
    "train[[\"Deck\", \"Cabin_num\", \"Side\"]] = train[\"Cabin\"].str.split(\"/\", expand=True) # Splitting col \"Cabin\" -> into 3 new cols\n"
   ]
  },
  {
   "cell_type": "code",
   "execution_count": 11,
   "id": "c1e32eaf",
   "metadata": {
    "execution": {
     "iopub.execute_input": "2024-07-24T23:07:34.652265Z",
     "iopub.status.busy": "2024-07-24T23:07:34.651869Z",
     "iopub.status.idle": "2024-07-24T23:07:34.662365Z",
     "shell.execute_reply": "2024-07-24T23:07:34.661215Z"
    },
    "papermill": {
     "duration": 0.022945,
     "end_time": "2024-07-24T23:07:34.665193",
     "exception": false,
     "start_time": "2024-07-24T23:07:34.642248",
     "status": "completed"
    },
    "tags": []
   },
   "outputs": [],
   "source": [
    "train = train.drop('Cabin', axis=1)\n",
    "train = train.drop('Cabin_num', axis=1)"
   ]
  },
  {
   "cell_type": "code",
   "execution_count": 12,
   "id": "7b9e7714",
   "metadata": {
    "execution": {
     "iopub.execute_input": "2024-07-24T23:07:34.682963Z",
     "iopub.status.busy": "2024-07-24T23:07:34.682528Z",
     "iopub.status.idle": "2024-07-24T23:07:34.698998Z",
     "shell.execute_reply": "2024-07-24T23:07:34.697820Z"
    },
    "papermill": {
     "duration": 0.028208,
     "end_time": "2024-07-24T23:07:34.701488",
     "exception": false,
     "start_time": "2024-07-24T23:07:34.673280",
     "status": "completed"
    },
    "tags": []
   },
   "outputs": [],
   "source": [
    "# 1-hot encoding categorial variables\n",
    "train_encoded = pd.get_dummies(train, columns=[\"HomePlanet\", 'Destination', 'Deck', 'Side'])"
   ]
  },
  {
   "cell_type": "code",
   "execution_count": 13,
   "id": "7b7d6232",
   "metadata": {
    "execution": {
     "iopub.execute_input": "2024-07-24T23:07:34.719732Z",
     "iopub.status.busy": "2024-07-24T23:07:34.719304Z",
     "iopub.status.idle": "2024-07-24T23:07:34.734839Z",
     "shell.execute_reply": "2024-07-24T23:07:34.733652Z"
    },
    "papermill": {
     "duration": 0.027621,
     "end_time": "2024-07-24T23:07:34.737160",
     "exception": false,
     "start_time": "2024-07-24T23:07:34.709539",
     "status": "completed"
    },
    "tags": []
   },
   "outputs": [
    {
     "name": "stdout",
     "output_type": "stream",
     "text": [
      "<class 'pandas.core.frame.DataFrame'>\n",
      "Index: 8334 entries, 0 to 8692\n",
      "Data columns (total 25 columns):\n",
      " #   Column                     Non-Null Count  Dtype  \n",
      "---  ------                     --------------  -----  \n",
      " 0   CryoSleep                  8334 non-null   int64  \n",
      " 1   Age                        8334 non-null   float64\n",
      " 2   VIP                        8334 non-null   int64  \n",
      " 3   RoomService                8334 non-null   float64\n",
      " 4   FoodCourt                  8334 non-null   float64\n",
      " 5   ShoppingMall               8334 non-null   float64\n",
      " 6   Spa                        8334 non-null   float64\n",
      " 7   VRDeck                     8334 non-null   float64\n",
      " 8   Transported                8334 non-null   int64  \n",
      " 9   HomePlanet_Earth           8334 non-null   bool   \n",
      " 10  HomePlanet_Europa          8334 non-null   bool   \n",
      " 11  HomePlanet_Mars            8334 non-null   bool   \n",
      " 12  Destination_55 Cancri e    8334 non-null   bool   \n",
      " 13  Destination_PSO J318.5-22  8334 non-null   bool   \n",
      " 14  Destination_TRAPPIST-1e    8334 non-null   bool   \n",
      " 15  Deck_A                     8334 non-null   bool   \n",
      " 16  Deck_B                     8334 non-null   bool   \n",
      " 17  Deck_C                     8334 non-null   bool   \n",
      " 18  Deck_D                     8334 non-null   bool   \n",
      " 19  Deck_E                     8334 non-null   bool   \n",
      " 20  Deck_F                     8334 non-null   bool   \n",
      " 21  Deck_G                     8334 non-null   bool   \n",
      " 22  Deck_T                     8334 non-null   bool   \n",
      " 23  Side_P                     8334 non-null   bool   \n",
      " 24  Side_S                     8334 non-null   bool   \n",
      "dtypes: bool(16), float64(6), int64(3)\n",
      "memory usage: 781.3 KB\n"
     ]
    }
   ],
   "source": [
    "train_encoded.dropna(inplace=True)\n",
    "train_encoded.info() # Checking the converted and cleaned data\n"
   ]
  },
  {
   "cell_type": "code",
   "execution_count": 14,
   "id": "43b816cd",
   "metadata": {
    "execution": {
     "iopub.execute_input": "2024-07-24T23:07:34.757475Z",
     "iopub.status.busy": "2024-07-24T23:07:34.756154Z",
     "iopub.status.idle": "2024-07-24T23:07:34.764757Z",
     "shell.execute_reply": "2024-07-24T23:07:34.763343Z"
    },
    "papermill": {
     "duration": 0.021042,
     "end_time": "2024-07-24T23:07:34.767083",
     "exception": false,
     "start_time": "2024-07-24T23:07:34.746041",
     "status": "completed"
    },
    "tags": []
   },
   "outputs": [
    {
     "name": "stdout",
     "output_type": "stream",
     "text": [
      "Length of train_encoded dataset: 8334\n"
     ]
    }
   ],
   "source": [
    "train_encoded = train_encoded.astype(int)\n",
    "train_encoded.head(2)\n",
    "print(f\"Length of train_encoded dataset: {len(train_encoded)}\")"
   ]
  },
  {
   "cell_type": "code",
   "execution_count": 15,
   "id": "c4029211",
   "metadata": {
    "execution": {
     "iopub.execute_input": "2024-07-24T23:07:34.786590Z",
     "iopub.status.busy": "2024-07-24T23:07:34.785779Z",
     "iopub.status.idle": "2024-07-24T23:07:34.796227Z",
     "shell.execute_reply": "2024-07-24T23:07:34.795050Z"
    },
    "papermill": {
     "duration": 0.02244,
     "end_time": "2024-07-24T23:07:34.798679",
     "exception": false,
     "start_time": "2024-07-24T23:07:34.776239",
     "status": "completed"
    },
    "tags": []
   },
   "outputs": [
    {
     "name": "stdout",
     "output_type": "stream",
     "text": [
      "[[ 0 39  0 ...  0  1  0]\n",
      " [ 0 24  0 ...  0  0  1]\n",
      " [ 0 58  1 ...  0  0  1]\n",
      " ...\n",
      " [ 0 26  0 ...  0  0  1]\n",
      " [ 0 32  0 ...  0  0  1]\n",
      " [ 0 44  0 ...  0  0  1]]\n",
      "[['0013_01' 'Earth' True ... 0.0 0.0 'Nelly Carsoning']\n",
      " ['0018_01' 'Earth' False ... 2823.0 0.0 'Lerome Peckers']\n",
      " ['0019_01' 'Europa' True ... 0.0 0.0 'Sabih Unhearfus']\n",
      " ...\n",
      " ['9271_01' 'Mars' True ... 0.0 0.0 'Jayrin Pore']\n",
      " ['9273_01' 'Europa' False ... 0.0 523.0 'Kitakan Conale']\n",
      " ['9277_01' 'Earth' True ... 0.0 0.0 'Lilace Leonzaley']]\n"
     ]
    }
   ],
   "source": [
    "train_arr = train_encoded.to_numpy()\n",
    "test_arr = test.to_numpy()\n",
    "\n",
    "print(train_arr)\n",
    "print(test_arr)"
   ]
  },
  {
   "cell_type": "code",
   "execution_count": 16,
   "id": "3a1c36ae",
   "metadata": {
    "execution": {
     "iopub.execute_input": "2024-07-24T23:07:34.817486Z",
     "iopub.status.busy": "2024-07-24T23:07:34.817076Z",
     "iopub.status.idle": "2024-07-24T23:07:34.824021Z",
     "shell.execute_reply": "2024-07-24T23:07:34.822623Z"
    },
    "papermill": {
     "duration": 0.019241,
     "end_time": "2024-07-24T23:07:34.826549",
     "exception": false,
     "start_time": "2024-07-24T23:07:34.807308",
     "status": "completed"
    },
    "tags": []
   },
   "outputs": [],
   "source": [
    "# Custom dataset class\n",
    "class data(Dataset):\n",
    "    def __init__(self, data, labels):\n",
    "        self.data = torch.tensor(data, dtype=torch.long)\n",
    "        self.labels = torch.tensor(labels, dtype=torch.long)\n",
    "\n",
    "    def __len__(self):\n",
    "        return len(self.data)\n",
    "\n",
    "    def __getitem__(self, idx):\n",
    "        print(idx)\n",
    "        return self.data[idx], self.labels[idx]"
   ]
  },
  {
   "cell_type": "code",
   "execution_count": 17,
   "id": "0fa1021e",
   "metadata": {
    "execution": {
     "iopub.execute_input": "2024-07-24T23:07:34.846748Z",
     "iopub.status.busy": "2024-07-24T23:07:34.846293Z",
     "iopub.status.idle": "2024-07-24T23:07:34.853909Z",
     "shell.execute_reply": "2024-07-24T23:07:34.852647Z"
    },
    "papermill": {
     "duration": 0.021367,
     "end_time": "2024-07-24T23:07:34.856577",
     "exception": false,
     "start_time": "2024-07-24T23:07:34.835210",
     "status": "completed"
    },
    "tags": []
   },
   "outputs": [],
   "source": [
    "# Custom model class\n",
    "class Model(nn.Module):\n",
    "    def __init__(self, input_size, output_size):\n",
    "        super(Model, self).__init__()\n",
    "        self.linear1 = nn.Linear(input_size, 64)\n",
    "        self.relu = nn.ReLU()\n",
    "        self.output = nn.Linear(64, output_size)\n",
    "\n",
    "    def forward(self, x):\n",
    "        x = self.linear1(x)\n",
    "        x = self.relu(x)\n",
    "        x = self.output(x)\n",
    "        return x"
   ]
  },
  {
   "cell_type": "code",
   "execution_count": 18,
   "id": "f96ca825",
   "metadata": {
    "execution": {
     "iopub.execute_input": "2024-07-24T23:07:34.876254Z",
     "iopub.status.busy": "2024-07-24T23:07:34.875817Z",
     "iopub.status.idle": "2024-07-24T23:07:34.882384Z",
     "shell.execute_reply": "2024-07-24T23:07:34.880841Z"
    },
    "papermill": {
     "duration": 0.019693,
     "end_time": "2024-07-24T23:07:34.885019",
     "exception": false,
     "start_time": "2024-07-24T23:07:34.865326",
     "status": "completed"
    },
    "tags": []
   },
   "outputs": [],
   "source": [
    "# Data loaders\n",
    "train_loader = DataLoader(train_arr, batch_size=2, shuffle=True)\n",
    "test_loader = DataLoader(test_arr, batch_size=32, shuffle=False)"
   ]
  },
  {
   "cell_type": "code",
   "execution_count": 19,
   "id": "ea820a8b",
   "metadata": {
    "execution": {
     "iopub.execute_input": "2024-07-24T23:07:34.904616Z",
     "iopub.status.busy": "2024-07-24T23:07:34.903596Z",
     "iopub.status.idle": "2024-07-24T23:07:36.311795Z",
     "shell.execute_reply": "2024-07-24T23:07:36.310728Z"
    },
    "papermill": {
     "duration": 1.420554,
     "end_time": "2024-07-24T23:07:36.314249",
     "exception": false,
     "start_time": "2024-07-24T23:07:34.893695",
     "status": "completed"
    },
    "tags": []
   },
   "outputs": [],
   "source": [
    "# Defining model, criterion & optimizer\n",
    "model = Model(64, 64)\n",
    "criterion = nn.CrossEntropyLoss()\n",
    "optimizer = optim.Adam(model.parameters(), lr=0.001) # Learning rate"
   ]
  },
  {
   "cell_type": "code",
   "execution_count": null,
   "id": "75e3f80c",
   "metadata": {
    "papermill": {
     "duration": 0.008686,
     "end_time": "2024-07-24T23:07:36.331626",
     "exception": false,
     "start_time": "2024-07-24T23:07:36.322940",
     "status": "completed"
    },
    "tags": []
   },
   "outputs": [],
   "source": []
  },
  {
   "cell_type": "code",
   "execution_count": null,
   "id": "216a10df",
   "metadata": {
    "papermill": {
     "duration": 0.008355,
     "end_time": "2024-07-24T23:07:36.348546",
     "exception": false,
     "start_time": "2024-07-24T23:07:36.340191",
     "status": "completed"
    },
    "tags": []
   },
   "outputs": [],
   "source": []
  }
 ],
 "metadata": {
  "kaggle": {
   "accelerator": "none",
   "dataSources": [
    {
     "databundleVersionId": 3220602,
     "sourceId": 34377,
     "sourceType": "competition"
    }
   ],
   "dockerImageVersionId": 30746,
   "isGpuEnabled": false,
   "isInternetEnabled": false,
   "language": "python",
   "sourceType": "notebook"
  },
  "kernelspec": {
   "display_name": "Python 3",
   "language": "python",
   "name": "python3"
  },
  "language_info": {
   "codemirror_mode": {
    "name": "ipython",
    "version": 3
   },
   "file_extension": ".py",
   "mimetype": "text/x-python",
   "name": "python",
   "nbconvert_exporter": "python",
   "pygments_lexer": "ipython3",
   "version": "3.10.13"
  },
  "papermill": {
   "default_parameters": {},
   "duration": 14.180111,
   "end_time": "2024-07-24T23:07:37.683171",
   "environment_variables": {},
   "exception": null,
   "input_path": "__notebook__.ipynb",
   "output_path": "__notebook__.ipynb",
   "parameters": {},
   "start_time": "2024-07-24T23:07:23.503060",
   "version": "2.5.0"
  }
 },
 "nbformat": 4,
 "nbformat_minor": 5
}
