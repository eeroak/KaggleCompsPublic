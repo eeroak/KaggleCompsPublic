{
 "cells": [
  {
   "cell_type": "markdown",
   "id": "c4422969",
   "metadata": {
    "papermill": {
     "duration": 0.005513,
     "end_time": "2024-07-29T17:06:06.321154",
     "exception": false,
     "start_time": "2024-07-29T17:06:06.315641",
     "status": "completed"
    },
    "tags": []
   },
   "source": [
    "In this competition your task is to predict whether a passenger was transported to an alternate dimension during the Spaceship Titanic's collision with the spacetime anomaly. To help you make these predictions, you're given a set of personal records recovered from the ship's damaged computer system.  \n",
    "\n",
    "** *File and Data Field Descriptions* **\n",
    "\n",
    "**train.csv** - Personal records for about two-thirds (~8700) of the passengers, to be used as training data.  \n",
    "**PassengerId** - A unique Id for each passenger. Each Id takes the form gggg_pp where gggg indicates a group the passenger is travelling with and pp is their number within the group. People in a group are often family members, but not always.  \n",
    "**HomePlanet** - The planet the passenger departed from, typically their planet of permanent residence.  \n",
    "**CryoSleep** - Indicates whether the passenger elected to be put into suspended animation for the duration of the voyage.   **Passengers** in cryosleep are confined to their cabins.  \n",
    "**Cabin** - The cabin number where the passenger is staying. Takes the form deck/num/side, where side can be either P for Port or S for Starboard.  \n",
    "**Destination** - The planet the passenger will be debarking to.  \n",
    "**Age** - The age of the passenger.  \n",
    "**VIP** - Whether the passenger has paid for special VIP service during the voyage.  \n",
    "**RoomService, FoodCourt, ShoppingMall, Spa, VRDeck** - Amount the passenger has billed at each of the Spaceship Titanic's many luxury amenities.  \n",
    "**Name** - The first and last names of the passenger.  \n",
    "**Transported** - Whether the passenger was transported to another dimension. This is the target, the column you are trying to predict  \n",
    "\n",
    "**test.csv** - Personal records for the remaining one-third (~4300) of the passengers, to be used as test data. Your task is to predict the value of Transported for the passengers in this set.  \n",
    "\n",
    "**sample_submission.csv** - A submission file in the correct format.  \n",
    "**PassengerId **- Id for each passenger in the test set.  \n",
    "**Transported **- The target. For each passenger, predict either True or False.  "
   ]
  },
  {
   "cell_type": "markdown",
   "id": "b29af69c",
   "metadata": {
    "papermill": {
     "duration": 0.005055,
     "end_time": "2024-07-29T17:06:06.332200",
     "exception": false,
     "start_time": "2024-07-29T17:06:06.327145",
     "status": "completed"
    },
    "tags": []
   },
   "source": [
    "## 1. Imports"
   ]
  },
  {
   "cell_type": "code",
   "execution_count": 1,
   "id": "2ec50dd0",
   "metadata": {
    "_cell_guid": "b1076dfc-b9ad-4769-8c92-a6c4dae69d19",
    "_uuid": "8f2839f25d086af736a60e9eeb907d3b93b6e0e5",
    "execution": {
     "iopub.execute_input": "2024-07-29T17:06:06.343552Z",
     "iopub.status.busy": "2024-07-29T17:06:06.343189Z",
     "iopub.status.idle": "2024-07-29T17:06:08.758929Z",
     "shell.execute_reply": "2024-07-29T17:06:08.757763Z"
    },
    "papermill": {
     "duration": 2.424114,
     "end_time": "2024-07-29T17:06:08.761309",
     "exception": false,
     "start_time": "2024-07-29T17:06:06.337195",
     "status": "completed"
    },
    "tags": []
   },
   "outputs": [
    {
     "name": "stdout",
     "output_type": "stream",
     "text": [
      "/kaggle/input/spaceship-titanic/sample_submission.csv\n",
      "/kaggle/input/spaceship-titanic/train.csv\n",
      "/kaggle/input/spaceship-titanic/test.csv\n"
     ]
    }
   ],
   "source": [
    "# Imports\n",
    "import os\n",
    "import numpy as np\n",
    "import pandas as pd \n",
    "import seaborn as sns\n",
    "import matplotlib.pyplot as plt\n",
    "from sklearn.model_selection import train_test_split\n",
    "from sklearn.preprocessing import StandardScaler\n",
    "from sklearn.linear_model import LogisticRegression\n",
    "from sklearn.metrics import accuracy_score, confusion_matrix, classification_report\n",
    "\n",
    "# Display input folder contents (data-sets()\n",
    "for dirname, _, filenames in os.walk('/kaggle/input'):\n",
    "    for filename in filenames:\n",
    "        print(os.path.join(dirname, filename))"
   ]
  },
  {
   "cell_type": "markdown",
   "id": "fd22cc7e",
   "metadata": {
    "papermill": {
     "duration": 0.004802,
     "end_time": "2024-07-29T17:06:08.771084",
     "exception": false,
     "start_time": "2024-07-29T17:06:08.766282",
     "status": "completed"
    },
    "tags": []
   },
   "source": [
    "## 2. Overall dataset information gathering"
   ]
  },
  {
   "cell_type": "code",
   "execution_count": 2,
   "id": "b6770d08",
   "metadata": {
    "execution": {
     "iopub.execute_input": "2024-07-29T17:06:08.782889Z",
     "iopub.status.busy": "2024-07-29T17:06:08.781934Z",
     "iopub.status.idle": "2024-07-29T17:06:08.872266Z",
     "shell.execute_reply": "2024-07-29T17:06:08.871157Z"
    },
    "papermill": {
     "duration": 0.098652,
     "end_time": "2024-07-29T17:06:08.874553",
     "exception": false,
     "start_time": "2024-07-29T17:06:08.775901",
     "status": "completed"
    },
    "tags": []
   },
   "outputs": [
    {
     "name": "stdout",
     "output_type": "stream",
     "text": [
      "Train shape is (8693, 14)\n",
      "Test shape is (4277, 13)\n"
     ]
    }
   ],
   "source": [
    "# Read the training data into a pandas dataframe\n",
    "train = pd.read_csv(\"/kaggle/input/spaceship-titanic/train.csv\")\n",
    "test = pd.read_csv(\"/kaggle/input/spaceship-titanic/test.csv\")\n",
    "print(\"Train shape is {}\".format(train.shape))\n",
    "print(\"Test shape is {}\".format(test.shape))"
   ]
  },
  {
   "cell_type": "code",
   "execution_count": 3,
   "id": "bcf2cdc9",
   "metadata": {
    "execution": {
     "iopub.execute_input": "2024-07-29T17:06:08.886419Z",
     "iopub.status.busy": "2024-07-29T17:06:08.885600Z",
     "iopub.status.idle": "2024-07-29T17:06:08.946005Z",
     "shell.execute_reply": "2024-07-29T17:06:08.944992Z"
    },
    "papermill": {
     "duration": 0.068807,
     "end_time": "2024-07-29T17:06:08.948364",
     "exception": false,
     "start_time": "2024-07-29T17:06:08.879557",
     "status": "completed"
    },
    "tags": []
   },
   "outputs": [
    {
     "name": "stdout",
     "output_type": "stream",
     "text": [
      "  PassengerId HomePlanet CryoSleep  Cabin    Destination   Age    VIP  \\\n",
      "0     0001_01     Europa     False  B/0/P    TRAPPIST-1e  39.0  False   \n",
      "1     0002_01      Earth     False  F/0/S    TRAPPIST-1e  24.0  False   \n",
      "2     0003_01     Europa     False  A/0/S    TRAPPIST-1e  58.0   True   \n",
      "3     0003_02     Europa     False  A/0/S    TRAPPIST-1e  33.0  False   \n",
      "4     0004_01      Earth     False  F/1/S    TRAPPIST-1e  16.0  False   \n",
      "5     0005_01      Earth     False  F/0/P  PSO J318.5-22  44.0  False   \n",
      "6     0006_01      Earth     False  F/2/S    TRAPPIST-1e  26.0  False   \n",
      "7     0006_02      Earth      True  G/0/S    TRAPPIST-1e  28.0  False   \n",
      "8     0007_01      Earth     False  F/3/S    TRAPPIST-1e  35.0  False   \n",
      "9     0008_01     Europa      True  B/1/P    55 Cancri e  14.0  False   \n",
      "\n",
      "   RoomService  FoodCourt  ShoppingMall     Spa  VRDeck                Name  \\\n",
      "0          0.0        0.0           0.0     0.0     0.0     Maham Ofracculy   \n",
      "1        109.0        9.0          25.0   549.0    44.0        Juanna Vines   \n",
      "2         43.0     3576.0           0.0  6715.0    49.0       Altark Susent   \n",
      "3          0.0     1283.0         371.0  3329.0   193.0        Solam Susent   \n",
      "4        303.0       70.0         151.0   565.0     2.0   Willy Santantines   \n",
      "5          0.0      483.0           0.0   291.0     0.0   Sandie Hinetthews   \n",
      "6         42.0     1539.0           3.0     0.0     0.0  Billex Jacostaffey   \n",
      "7          0.0        0.0           0.0     0.0     NaN  Candra Jacostaffey   \n",
      "8          0.0      785.0          17.0   216.0     0.0       Andona Beston   \n",
      "9          0.0        0.0           0.0     0.0     0.0      Erraiam Flatic   \n",
      "\n",
      "   Transported  \n",
      "0        False  \n",
      "1         True  \n",
      "2        False  \n",
      "3        False  \n",
      "4         True  \n",
      "5         True  \n",
      "6         True  \n",
      "7         True  \n",
      "8         True  \n",
      "9         True  \n",
      "               Age   RoomService     FoodCourt  ShoppingMall           Spa  \\\n",
      "count  8514.000000   8512.000000   8510.000000   8485.000000   8510.000000   \n",
      "mean     28.827930    224.687617    458.077203    173.729169    311.138778   \n",
      "std      14.489021    666.717663   1611.489240    604.696458   1136.705535   \n",
      "min       0.000000      0.000000      0.000000      0.000000      0.000000   \n",
      "25%      19.000000      0.000000      0.000000      0.000000      0.000000   \n",
      "50%      27.000000      0.000000      0.000000      0.000000      0.000000   \n",
      "75%      38.000000     47.000000     76.000000     27.000000     59.000000   \n",
      "max      79.000000  14327.000000  29813.000000  23492.000000  22408.000000   \n",
      "\n",
      "             VRDeck  \n",
      "count   8505.000000  \n",
      "mean     304.854791  \n",
      "std     1145.717189  \n",
      "min        0.000000  \n",
      "25%        0.000000  \n",
      "50%        0.000000  \n",
      "75%       46.000000  \n",
      "max    24133.000000  \n",
      "<class 'pandas.core.frame.DataFrame'>\n",
      "RangeIndex: 8693 entries, 0 to 8692\n",
      "Data columns (total 14 columns):\n",
      " #   Column        Non-Null Count  Dtype  \n",
      "---  ------        --------------  -----  \n",
      " 0   PassengerId   8693 non-null   object \n",
      " 1   HomePlanet    8492 non-null   object \n",
      " 2   CryoSleep     8476 non-null   object \n",
      " 3   Cabin         8494 non-null   object \n",
      " 4   Destination   8511 non-null   object \n",
      " 5   Age           8514 non-null   float64\n",
      " 6   VIP           8490 non-null   object \n",
      " 7   RoomService   8512 non-null   float64\n",
      " 8   FoodCourt     8510 non-null   float64\n",
      " 9   ShoppingMall  8485 non-null   float64\n",
      " 10  Spa           8510 non-null   float64\n",
      " 11  VRDeck        8505 non-null   float64\n",
      " 12  Name          8493 non-null   object \n",
      " 13  Transported   8693 non-null   bool   \n",
      "dtypes: bool(1), float64(6), object(7)\n",
      "memory usage: 891.5+ KB\n",
      "None\n",
      "  PassengerId HomePlanet CryoSleep  Cabin  Destination   Age    VIP  \\\n",
      "0     0013_01      Earth      True  G/3/S  TRAPPIST-1e  27.0  False   \n",
      "1     0018_01      Earth     False  F/4/S  TRAPPIST-1e  19.0  False   \n",
      "\n",
      "   RoomService  FoodCourt  ShoppingMall     Spa  VRDeck             Name  \n",
      "0          0.0        0.0           0.0     0.0     0.0  Nelly Carsoning  \n",
      "1          0.0        9.0           0.0  2823.0     0.0   Lerome Peckers  \n"
     ]
    }
   ],
   "source": [
    "# Checking overall info of the dataset\n",
    "print(train.head(10))\n",
    "print(train.describe())\n",
    "print(train.info())\n",
    "print(test.head(2))"
   ]
  },
  {
   "cell_type": "code",
   "execution_count": 4,
   "id": "e157878f",
   "metadata": {
    "execution": {
     "iopub.execute_input": "2024-07-29T17:06:08.961119Z",
     "iopub.status.busy": "2024-07-29T17:06:08.960294Z",
     "iopub.status.idle": "2024-07-29T17:06:09.401484Z",
     "shell.execute_reply": "2024-07-29T17:06:09.400458Z"
    },
    "papermill": {
     "duration": 0.450053,
     "end_time": "2024-07-29T17:06:09.403689",
     "exception": false,
     "start_time": "2024-07-29T17:06:08.953636",
     "status": "completed"
    },
    "tags": []
   },
   "outputs": [
    {
     "name": "stdout",
     "output_type": "stream",
     "text": [
      "Dupes: 0\n"
     ]
    },
    {
     "name": "stderr",
     "output_type": "stream",
     "text": [
      "/opt/conda/lib/python3.10/site-packages/seaborn/_oldcore.py:1119: FutureWarning: use_inf_as_na option is deprecated and will be removed in a future version. Convert inf values to NaN before operating instead.\n",
      "  with pd.option_context('mode.use_inf_as_na', True):\n"
     ]
    },
    {
     "data": {
      "image/png": "[encoded data removed]",
      "text/plain": [
       "<Figure size 640x480 with 1 Axes>"
      ]
     },
     "metadata": {},
     "output_type": "display_data"
    }
   ],
   "source": [
    "# Check NaN & Dupe values\n",
    "print(\"Dupes:\", train.duplicated().sum()) # no dupes\n",
    "sns.histplot(train['Age'], kde=True)\n",
    "plt.show()"
   ]
  },
  {
   "cell_type": "code",
   "execution_count": 5,
   "id": "417c2147",
   "metadata": {
    "execution": {
     "iopub.execute_input": "2024-07-29T17:06:09.417010Z",
     "iopub.status.busy": "2024-07-29T17:06:09.416606Z",
     "iopub.status.idle": "2024-07-29T17:06:09.533425Z",
     "shell.execute_reply": "2024-07-29T17:06:09.531185Z"
    },
    "papermill": {
     "duration": 0.125847,
     "end_time": "2024-07-29T17:06:09.535527",
     "exception": false,
     "start_time": "2024-07-29T17:06:09.409680",
     "status": "completed"
    },
    "tags": []
   },
   "outputs": [
    {
     "data": {
      "text/plain": [
       "<Axes: ylabel='count'>"
      ]
     },
     "execution_count": 5,
     "metadata": {},
     "output_type": "execute_result"
    },
    {
     "data": {
      "image/png": "[encoded data removed]",
      "text/plain": [
       "<Figure size 640x480 with 1 Axes>"
      ]
     },
     "metadata": {},
     "output_type": "display_data"
    }
   ],
   "source": [
    "# Plotting how many were transported overall\n",
    "plot_train = train.Transported.value_counts()\n",
    "plot_train.plot(kind=\"pie\")"
   ]
  },
  {
   "cell_type": "markdown",
   "id": "5052a400",
   "metadata": {
    "papermill": {
     "duration": 0.006322,
     "end_time": "2024-07-29T17:06:09.548375",
     "exception": false,
     "start_time": "2024-07-29T17:06:09.542053",
     "status": "completed"
    },
    "tags": []
   },
   "source": [
    "## 3. Data transformation & cleansing"
   ]
  },
  {
   "cell_type": "code",
   "execution_count": 6,
   "id": "38f1e19a",
   "metadata": {
    "execution": {
     "iopub.execute_input": "2024-07-29T17:06:09.562792Z",
     "iopub.status.busy": "2024-07-29T17:06:09.562404Z",
     "iopub.status.idle": "2024-07-29T17:06:09.588118Z",
     "shell.execute_reply": "2024-07-29T17:06:09.586946Z"
    },
    "papermill": {
     "duration": 0.035704,
     "end_time": "2024-07-29T17:06:09.590439",
     "exception": false,
     "start_time": "2024-07-29T17:06:09.554735",
     "status": "completed"
    },
    "tags": []
   },
   "outputs": [
    {
     "name": "stdout",
     "output_type": "stream",
     "text": [
      "8693\n"
     ]
    }
   ],
   "source": [
    "train.isnull().sum().sort_values(ascending=False)\n",
    "train[[\"Deck\", \"Cabin_num\", \"Side\"]] = train[\"Cabin\"].str.split(\"/\", expand=True)\n",
    "print(len(train))"
   ]
  },
  {
   "cell_type": "code",
   "execution_count": 7,
   "id": "2fa14e2f",
   "metadata": {
    "execution": {
     "iopub.execute_input": "2024-07-29T17:06:09.605011Z",
     "iopub.status.busy": "2024-07-29T17:06:09.604641Z",
     "iopub.status.idle": "2024-07-29T17:06:09.627880Z",
     "shell.execute_reply": "2024-07-29T17:06:09.626725Z"
    },
    "papermill": {
     "duration": 0.034032,
     "end_time": "2024-07-29T17:06:09.630960",
     "exception": false,
     "start_time": "2024-07-29T17:06:09.596928",
     "status": "completed"
    },
    "tags": []
   },
   "outputs": [
    {
     "name": "stdout",
     "output_type": "stream",
     "text": [
      "8693\n"
     ]
    }
   ],
   "source": [
    "# Handling missing values etc.\n",
    "train[['VIP', 'CryoSleep', 'FoodCourt', 'ShoppingMall', 'Spa', 'VRDeck','RoomService']] = train[['VIP', 'CryoSleep', 'FoodCourt', 'ShoppingMall', 'Spa', 'VRDeck','RoomService']].fillna(value=0)\n",
    "train[[\"Age\"]] = train[[\"Age\"]].fillna\n",
    "train.drop([\"Cabin\",\"Name\",\"Cabin_num\",\"Side\", \"Age\"], axis=1, inplace=True)\n",
    "train['Transported'] = train['Transported'].astype(int)\n",
    "train['CryoSleep'] = train['CryoSleep'].astype(int)\n",
    "\n",
    "train.isnull().sum().sort_values(ascending=False)\n",
    "print(len(train))"
   ]
  },
  {
   "cell_type": "code",
   "execution_count": 8,
   "id": "b539a416",
   "metadata": {
    "execution": {
     "iopub.execute_input": "2024-07-29T17:06:09.645080Z",
     "iopub.status.busy": "2024-07-29T17:06:09.644715Z",
     "iopub.status.idle": "2024-07-29T17:06:09.659408Z",
     "shell.execute_reply": "2024-07-29T17:06:09.658279Z"
    },
    "papermill": {
     "duration": 0.024369,
     "end_time": "2024-07-29T17:06:09.661725",
     "exception": false,
     "start_time": "2024-07-29T17:06:09.637356",
     "status": "completed"
    },
    "tags": []
   },
   "outputs": [
    {
     "name": "stdout",
     "output_type": "stream",
     "text": [
      "8693\n"
     ]
    }
   ],
   "source": [
    "train_encoded = pd.get_dummies(train, columns=[\"HomePlanet\",\"Destination\",\"Deck\"], drop_first=False,prefix='', prefix_sep='')\n",
    "print(len(train_encoded))"
   ]
  },
  {
   "cell_type": "code",
   "execution_count": 9,
   "id": "ffb4b954",
   "metadata": {
    "execution": {
     "iopub.execute_input": "2024-07-29T17:06:09.676496Z",
     "iopub.status.busy": "2024-07-29T17:06:09.676011Z",
     "iopub.status.idle": "2024-07-29T17:06:09.686076Z",
     "shell.execute_reply": "2024-07-29T17:06:09.685086Z"
    },
    "papermill": {
     "duration": 0.019729,
     "end_time": "2024-07-29T17:06:09.688158",
     "exception": false,
     "start_time": "2024-07-29T17:06:09.668429",
     "status": "completed"
    },
    "tags": []
   },
   "outputs": [
    {
     "data": {
      "text/plain": [
       "PassengerId      0\n",
       "CryoSleep        0\n",
       "VIP              0\n",
       "RoomService      0\n",
       "FoodCourt        0\n",
       "ShoppingMall     0\n",
       "Spa              0\n",
       "VRDeck           0\n",
       "Transported      0\n",
       "Earth            0\n",
       "Europa           0\n",
       "Mars             0\n",
       "55 Cancri e      0\n",
       "PSO J318.5-22    0\n",
       "TRAPPIST-1e      0\n",
       "A                0\n",
       "B                0\n",
       "C                0\n",
       "D                0\n",
       "E                0\n",
       "F                0\n",
       "G                0\n",
       "T                0\n",
       "dtype: int64"
      ]
     },
     "execution_count": 9,
     "metadata": {},
     "output_type": "execute_result"
    }
   ],
   "source": [
    "train_encoded.isnull().sum()"
   ]
  },
  {
   "cell_type": "markdown",
   "id": "5b50cb5c",
   "metadata": {
    "papermill": {
     "duration": 0.006678,
     "end_time": "2024-07-29T17:06:09.701683",
     "exception": false,
     "start_time": "2024-07-29T17:06:09.695005",
     "status": "completed"
    },
    "tags": []
   },
   "source": [
    "## 4. Splitting & scaling the data"
   ]
  },
  {
   "cell_type": "code",
   "execution_count": 10,
   "id": "81c6f540",
   "metadata": {
    "execution": {
     "iopub.execute_input": "2024-07-29T17:06:09.717148Z",
     "iopub.status.busy": "2024-07-29T17:06:09.716768Z",
     "iopub.status.idle": "2024-07-29T17:06:09.728024Z",
     "shell.execute_reply": "2024-07-29T17:06:09.726964Z"
    },
    "papermill": {
     "duration": 0.02191,
     "end_time": "2024-07-29T17:06:09.730207",
     "exception": false,
     "start_time": "2024-07-29T17:06:09.708297",
     "status": "completed"
    },
    "tags": []
   },
   "outputs": [],
   "source": [
    "# Dropping unnecessary columns, some str and the target\n",
    "X = train_encoded.drop(columns=['Transported'])\n",
    "X.head(5)\n",
    "y = train_encoded['Transported']\n",
    "    \n",
    "X_train, X_test, y_train, y_test = train_test_split(X, y, test_size=0.492, random_state=242)"
   ]
  },
  {
   "cell_type": "code",
   "execution_count": 11,
   "id": "d4e1080f",
   "metadata": {
    "execution": {
     "iopub.execute_input": "2024-07-29T17:06:09.745040Z",
     "iopub.status.busy": "2024-07-29T17:06:09.744655Z",
     "iopub.status.idle": "2024-07-29T17:06:09.770886Z",
     "shell.execute_reply": "2024-07-29T17:06:09.769856Z"
    },
    "papermill": {
     "duration": 0.036137,
     "end_time": "2024-07-29T17:06:09.773027",
     "exception": false,
     "start_time": "2024-07-29T17:06:09.736890",
     "status": "completed"
    },
    "tags": []
   },
   "outputs": [
    {
     "data": {
      "text/html": [
       "<div>\n",
       "<style scoped>\n",
       "    .dataframe tbody tr th:only-of-type {\n",
       "        vertical-align: middle;\n",
       "    }\n",
       "\n",
       "    .dataframe tbody tr th {\n",
       "        vertical-align: top;\n",
       "    }\n",
       "\n",
       "    .dataframe thead th {\n",
       "        text-align: right;\n",
       "    }\n",
       "</style>\n",
       "<table border=\"1\" class=\"dataframe\">\n",
       "  <thead>\n",
       "    <tr style=\"text-align: right;\">\n",
       "      <th></th>\n",
       "      <th>PassengerId</th>\n",
       "      <th>CryoSleep</th>\n",
       "      <th>VIP</th>\n",
       "      <th>RoomService</th>\n",
       "      <th>FoodCourt</th>\n",
       "      <th>ShoppingMall</th>\n",
       "      <th>Spa</th>\n",
       "      <th>VRDeck</th>\n",
       "      <th>Earth</th>\n",
       "      <th>Europa</th>\n",
       "      <th>...</th>\n",
       "      <th>PSO J318.5-22</th>\n",
       "      <th>TRAPPIST-1e</th>\n",
       "      <th>A</th>\n",
       "      <th>B</th>\n",
       "      <th>C</th>\n",
       "      <th>D</th>\n",
       "      <th>E</th>\n",
       "      <th>F</th>\n",
       "      <th>G</th>\n",
       "      <th>T</th>\n",
       "    </tr>\n",
       "  </thead>\n",
       "  <tbody>\n",
       "    <tr>\n",
       "      <th>6497</th>\n",
       "      <td>6858_03</td>\n",
       "      <td>0</td>\n",
       "      <td>False</td>\n",
       "      <td>0.0</td>\n",
       "      <td>60.0</td>\n",
       "      <td>0.0</td>\n",
       "      <td>310.0</td>\n",
       "      <td>4674.0</td>\n",
       "      <td>False</td>\n",
       "      <td>True</td>\n",
       "      <td>...</td>\n",
       "      <td>False</td>\n",
       "      <td>False</td>\n",
       "      <td>False</td>\n",
       "      <td>True</td>\n",
       "      <td>False</td>\n",
       "      <td>False</td>\n",
       "      <td>False</td>\n",
       "      <td>False</td>\n",
       "      <td>False</td>\n",
       "      <td>False</td>\n",
       "    </tr>\n",
       "    <tr>\n",
       "      <th>3498</th>\n",
       "      <td>3757_01</td>\n",
       "      <td>1</td>\n",
       "      <td>False</td>\n",
       "      <td>0.0</td>\n",
       "      <td>0.0</td>\n",
       "      <td>0.0</td>\n",
       "      <td>0.0</td>\n",
       "      <td>0.0</td>\n",
       "      <td>True</td>\n",
       "      <td>False</td>\n",
       "      <td>...</td>\n",
       "      <td>False</td>\n",
       "      <td>True</td>\n",
       "      <td>False</td>\n",
       "      <td>False</td>\n",
       "      <td>False</td>\n",
       "      <td>False</td>\n",
       "      <td>False</td>\n",
       "      <td>False</td>\n",
       "      <td>True</td>\n",
       "      <td>False</td>\n",
       "    </tr>\n",
       "    <tr>\n",
       "      <th>501</th>\n",
       "      <td>0539_03</td>\n",
       "      <td>1</td>\n",
       "      <td>False</td>\n",
       "      <td>0.0</td>\n",
       "      <td>0.0</td>\n",
       "      <td>0.0</td>\n",
       "      <td>0.0</td>\n",
       "      <td>0.0</td>\n",
       "      <td>False</td>\n",
       "      <td>False</td>\n",
       "      <td>...</td>\n",
       "      <td>False</td>\n",
       "      <td>False</td>\n",
       "      <td>False</td>\n",
       "      <td>False</td>\n",
       "      <td>True</td>\n",
       "      <td>False</td>\n",
       "      <td>False</td>\n",
       "      <td>False</td>\n",
       "      <td>False</td>\n",
       "      <td>False</td>\n",
       "    </tr>\n",
       "    <tr>\n",
       "      <th>6145</th>\n",
       "      <td>6482_03</td>\n",
       "      <td>1</td>\n",
       "      <td>False</td>\n",
       "      <td>0.0</td>\n",
       "      <td>0.0</td>\n",
       "      <td>0.0</td>\n",
       "      <td>0.0</td>\n",
       "      <td>0.0</td>\n",
       "      <td>False</td>\n",
       "      <td>False</td>\n",
       "      <td>...</td>\n",
       "      <td>False</td>\n",
       "      <td>True</td>\n",
       "      <td>False</td>\n",
       "      <td>False</td>\n",
       "      <td>False</td>\n",
       "      <td>False</td>\n",
       "      <td>False</td>\n",
       "      <td>True</td>\n",
       "      <td>False</td>\n",
       "      <td>False</td>\n",
       "    </tr>\n",
       "    <tr>\n",
       "      <th>8066</th>\n",
       "      <td>8623_01</td>\n",
       "      <td>0</td>\n",
       "      <td>False</td>\n",
       "      <td>9.0</td>\n",
       "      <td>731.0</td>\n",
       "      <td>85.0</td>\n",
       "      <td>0.0</td>\n",
       "      <td>537.0</td>\n",
       "      <td>True</td>\n",
       "      <td>False</td>\n",
       "      <td>...</td>\n",
       "      <td>False</td>\n",
       "      <td>True</td>\n",
       "      <td>False</td>\n",
       "      <td>False</td>\n",
       "      <td>False</td>\n",
       "      <td>False</td>\n",
       "      <td>False</td>\n",
       "      <td>False</td>\n",
       "      <td>False</td>\n",
       "      <td>False</td>\n",
       "    </tr>\n",
       "  </tbody>\n",
       "</table>\n",
       "<p>5 rows × 22 columns</p>\n",
       "</div>"
      ],
      "text/plain": [
       "     PassengerId  CryoSleep    VIP  RoomService  FoodCourt  ShoppingMall  \\\n",
       "6497     6858_03          0  False          0.0       60.0           0.0   \n",
       "3498     3757_01          1  False          0.0        0.0           0.0   \n",
       "501      0539_03          1  False          0.0        0.0           0.0   \n",
       "6145     6482_03          1  False          0.0        0.0           0.0   \n",
       "8066     8623_01          0  False          9.0      731.0          85.0   \n",
       "\n",
       "        Spa  VRDeck  Earth  Europa  ...  PSO J318.5-22  TRAPPIST-1e      A  \\\n",
       "6497  310.0  4674.0  False    True  ...          False        False  False   \n",
       "3498    0.0     0.0   True   False  ...          False         True  False   \n",
       "501     0.0     0.0  False   False  ...          False        False  False   \n",
       "6145    0.0     0.0  False   False  ...          False         True  False   \n",
       "8066    0.0   537.0   True   False  ...          False         True  False   \n",
       "\n",
       "          B      C      D      E      F      G      T  \n",
       "6497   True  False  False  False  False  False  False  \n",
       "3498  False  False  False  False  False   True  False  \n",
       "501   False   True  False  False  False  False  False  \n",
       "6145  False  False  False  False   True  False  False  \n",
       "8066  False  False  False  False  False  False  False  \n",
       "\n",
       "[5 rows x 22 columns]"
      ]
     },
     "execution_count": 11,
     "metadata": {},
     "output_type": "execute_result"
    }
   ],
   "source": [
    "X_train.head(5)"
   ]
  },
  {
   "cell_type": "markdown",
   "id": "05a175df",
   "metadata": {
    "papermill": {
     "duration": 0.006729,
     "end_time": "2024-07-29T17:06:09.786691",
     "exception": false,
     "start_time": "2024-07-29T17:06:09.779962",
     "status": "completed"
    },
    "tags": []
   },
   "source": [
    "## 5. Model fitment and accuracy scores"
   ]
  },
  {
   "cell_type": "code",
   "execution_count": 12,
   "id": "68f947f7",
   "metadata": {
    "execution": {
     "iopub.execute_input": "2024-07-29T17:06:09.802690Z",
     "iopub.status.busy": "2024-07-29T17:06:09.801904Z",
     "iopub.status.idle": "2024-07-29T17:06:09.861474Z",
     "shell.execute_reply": "2024-07-29T17:06:09.860278Z"
    },
    "papermill": {
     "duration": 0.072228,
     "end_time": "2024-07-29T17:06:09.865910",
     "exception": false,
     "start_time": "2024-07-29T17:06:09.793682",
     "status": "completed"
    },
    "tags": []
   },
   "outputs": [
    {
     "name": "stdout",
     "output_type": "stream",
     "text": [
      "4416\n"
     ]
    }
   ],
   "source": [
    "model = LogisticRegression(random_state = 2610, max_iter=500)\n",
    "model.fit(X_train, y_train)\n",
    "print(len(X_train))"
   ]
  },
  {
   "cell_type": "code",
   "execution_count": 13,
   "id": "37cf637c",
   "metadata": {
    "execution": {
     "iopub.execute_input": "2024-07-29T17:06:09.891221Z",
     "iopub.status.busy": "2024-07-29T17:06:09.890700Z",
     "iopub.status.idle": "2024-07-29T17:06:09.931931Z",
     "shell.execute_reply": "2024-07-29T17:06:09.930851Z"
    },
    "papermill": {
     "duration": 0.057221,
     "end_time": "2024-07-29T17:06:09.934825",
     "exception": false,
     "start_time": "2024-07-29T17:06:09.877604",
     "status": "completed"
    },
    "tags": []
   },
   "outputs": [
    {
     "data": {
      "text/html": [
       "<div>\n",
       "<style scoped>\n",
       "    .dataframe tbody tr th:only-of-type {\n",
       "        vertical-align: middle;\n",
       "    }\n",
       "\n",
       "    .dataframe tbody tr th {\n",
       "        vertical-align: top;\n",
       "    }\n",
       "\n",
       "    .dataframe thead th {\n",
       "        text-align: right;\n",
       "    }\n",
       "</style>\n",
       "<table border=\"1\" class=\"dataframe\">\n",
       "  <thead>\n",
       "    <tr style=\"text-align: right;\">\n",
       "      <th></th>\n",
       "      <th>PassengerId</th>\n",
       "      <th>CryoSleep</th>\n",
       "      <th>VIP</th>\n",
       "      <th>RoomService</th>\n",
       "      <th>FoodCourt</th>\n",
       "      <th>ShoppingMall</th>\n",
       "      <th>Spa</th>\n",
       "      <th>VRDeck</th>\n",
       "      <th>Earth</th>\n",
       "      <th>Europa</th>\n",
       "      <th>...</th>\n",
       "      <th>PSO J318.5-22</th>\n",
       "      <th>TRAPPIST-1e</th>\n",
       "      <th>A</th>\n",
       "      <th>B</th>\n",
       "      <th>C</th>\n",
       "      <th>D</th>\n",
       "      <th>E</th>\n",
       "      <th>F</th>\n",
       "      <th>G</th>\n",
       "      <th>T</th>\n",
       "    </tr>\n",
       "  </thead>\n",
       "  <tbody>\n",
       "    <tr>\n",
       "      <th>8209</th>\n",
       "      <td>8772_02</td>\n",
       "      <td>0</td>\n",
       "      <td>False</td>\n",
       "      <td>0.0</td>\n",
       "      <td>1127.0</td>\n",
       "      <td>0.0</td>\n",
       "      <td>3939.0</td>\n",
       "      <td>0.0</td>\n",
       "      <td>False</td>\n",
       "      <td>True</td>\n",
       "      <td>...</td>\n",
       "      <td>False</td>\n",
       "      <td>False</td>\n",
       "      <td>False</td>\n",
       "      <td>False</td>\n",
       "      <td>False</td>\n",
       "      <td>False</td>\n",
       "      <td>False</td>\n",
       "      <td>False</td>\n",
       "      <td>False</td>\n",
       "      <td>False</td>\n",
       "    </tr>\n",
       "    <tr>\n",
       "      <th>8142</th>\n",
       "      <td>8701_01</td>\n",
       "      <td>0</td>\n",
       "      <td>False</td>\n",
       "      <td>203.0</td>\n",
       "      <td>0.0</td>\n",
       "      <td>172.0</td>\n",
       "      <td>1460.0</td>\n",
       "      <td>151.0</td>\n",
       "      <td>False</td>\n",
       "      <td>False</td>\n",
       "      <td>...</td>\n",
       "      <td>False</td>\n",
       "      <td>False</td>\n",
       "      <td>False</td>\n",
       "      <td>False</td>\n",
       "      <td>False</td>\n",
       "      <td>False</td>\n",
       "      <td>False</td>\n",
       "      <td>True</td>\n",
       "      <td>False</td>\n",
       "      <td>False</td>\n",
       "    </tr>\n",
       "    <tr>\n",
       "      <th>6947</th>\n",
       "      <td>7372_01</td>\n",
       "      <td>0</td>\n",
       "      <td>False</td>\n",
       "      <td>2.0</td>\n",
       "      <td>147.0</td>\n",
       "      <td>0.0</td>\n",
       "      <td>1695.0</td>\n",
       "      <td>1147.0</td>\n",
       "      <td>True</td>\n",
       "      <td>False</td>\n",
       "      <td>...</td>\n",
       "      <td>False</td>\n",
       "      <td>True</td>\n",
       "      <td>False</td>\n",
       "      <td>False</td>\n",
       "      <td>False</td>\n",
       "      <td>False</td>\n",
       "      <td>False</td>\n",
       "      <td>True</td>\n",
       "      <td>False</td>\n",
       "      <td>False</td>\n",
       "    </tr>\n",
       "    <tr>\n",
       "      <th>2803</th>\n",
       "      <td>3025_01</td>\n",
       "      <td>0</td>\n",
       "      <td>False</td>\n",
       "      <td>2.0</td>\n",
       "      <td>788.0</td>\n",
       "      <td>0.0</td>\n",
       "      <td>128.0</td>\n",
       "      <td>9.0</td>\n",
       "      <td>True</td>\n",
       "      <td>False</td>\n",
       "      <td>...</td>\n",
       "      <td>False</td>\n",
       "      <td>True</td>\n",
       "      <td>False</td>\n",
       "      <td>False</td>\n",
       "      <td>False</td>\n",
       "      <td>False</td>\n",
       "      <td>False</td>\n",
       "      <td>False</td>\n",
       "      <td>True</td>\n",
       "      <td>False</td>\n",
       "    </tr>\n",
       "    <tr>\n",
       "      <th>6910</th>\n",
       "      <td>7326_01</td>\n",
       "      <td>0</td>\n",
       "      <td>False</td>\n",
       "      <td>2916.0</td>\n",
       "      <td>0.0</td>\n",
       "      <td>14.0</td>\n",
       "      <td>63.0</td>\n",
       "      <td>0.0</td>\n",
       "      <td>True</td>\n",
       "      <td>False</td>\n",
       "      <td>...</td>\n",
       "      <td>False</td>\n",
       "      <td>True</td>\n",
       "      <td>False</td>\n",
       "      <td>False</td>\n",
       "      <td>False</td>\n",
       "      <td>False</td>\n",
       "      <td>False</td>\n",
       "      <td>True</td>\n",
       "      <td>False</td>\n",
       "      <td>False</td>\n",
       "    </tr>\n",
       "  </tbody>\n",
       "</table>\n",
       "<p>5 rows × 22 columns</p>\n",
       "</div>"
      ],
      "text/plain": [
       "     PassengerId  CryoSleep    VIP  RoomService  FoodCourt  ShoppingMall  \\\n",
       "8209     8772_02          0  False          0.0     1127.0           0.0   \n",
       "8142     8701_01          0  False        203.0        0.0         172.0   \n",
       "6947     7372_01          0  False          2.0      147.0           0.0   \n",
       "2803     3025_01          0  False          2.0      788.0           0.0   \n",
       "6910     7326_01          0  False       2916.0        0.0          14.0   \n",
       "\n",
       "         Spa  VRDeck  Earth  Europa  ...  PSO J318.5-22  TRAPPIST-1e      A  \\\n",
       "8209  3939.0     0.0  False    True  ...          False        False  False   \n",
       "8142  1460.0   151.0  False   False  ...          False        False  False   \n",
       "6947  1695.0  1147.0   True   False  ...          False         True  False   \n",
       "2803   128.0     9.0   True   False  ...          False         True  False   \n",
       "6910    63.0     0.0   True   False  ...          False         True  False   \n",
       "\n",
       "          B      C      D      E      F      G      T  \n",
       "8209  False  False  False  False  False  False  False  \n",
       "8142  False  False  False  False   True  False  False  \n",
       "6947  False  False  False  False   True  False  False  \n",
       "2803  False  False  False  False  False   True  False  \n",
       "6910  False  False  False  False   True  False  False  \n",
       "\n",
       "[5 rows x 22 columns]"
      ]
     },
     "execution_count": 13,
     "metadata": {},
     "output_type": "execute_result"
    }
   ],
   "source": [
    "y_pred = model.predict(X_test)\n",
    "X_test.head()"
   ]
  },
  {
   "cell_type": "code",
   "execution_count": 14,
   "id": "2bbf41d5",
   "metadata": {
    "execution": {
     "iopub.execute_input": "2024-07-29T17:06:09.960962Z",
     "iopub.status.busy": "2024-07-29T17:06:09.960440Z",
     "iopub.status.idle": "2024-07-29T17:06:09.968801Z",
     "shell.execute_reply": "2024-07-29T17:06:09.967775Z"
    },
    "papermill": {
     "duration": 0.02583,
     "end_time": "2024-07-29T17:06:09.972701",
     "exception": false,
     "start_time": "2024-07-29T17:06:09.946871",
     "status": "completed"
    },
    "tags": []
   },
   "outputs": [
    {
     "name": "stdout",
     "output_type": "stream",
     "text": [
      "Accuracy: 0.7776478840308627\n",
      "4277\n"
     ]
    }
   ],
   "source": [
    "print(\"Accuracy:\", accuracy_score(y_test, y_pred))\n",
    "print(len(y_pred))"
   ]
  },
  {
   "cell_type": "code",
   "execution_count": 15,
   "id": "d9c053c7",
   "metadata": {
    "execution": {
     "iopub.execute_input": "2024-07-29T17:06:09.998946Z",
     "iopub.status.busy": "2024-07-29T17:06:09.998409Z",
     "iopub.status.idle": "2024-07-29T17:06:10.034796Z",
     "shell.execute_reply": "2024-07-29T17:06:10.033974Z"
    },
    "papermill": {
     "duration": 0.052362,
     "end_time": "2024-07-29T17:06:10.037190",
     "exception": false,
     "start_time": "2024-07-29T17:06:09.984828",
     "status": "completed"
    },
    "tags": []
   },
   "outputs": [],
   "source": [
    "sub = pd.read_csv('../input/spaceship-titanic/sample_submission.csv')\n",
    "sub['Transported'] = list(y_pred)\n",
    "sub.to_csv('submission.csv', index=False)"
   ]
  }
 ],
 "metadata": {
  "kaggle": {
   "accelerator": "none",
   "dataSources": [
    {
     "databundleVersionId": 3220602,
     "sourceId": 34377,
     "sourceType": "competition"
    }
   ],
   "dockerImageVersionId": 30746,
   "isGpuEnabled": false,
   "isInternetEnabled": false,
   "language": "python",
   "sourceType": "notebook"
  },
  "kernelspec": {
   "display_name": "Python 3",
   "language": "python",
   "name": "python3"
  },
  "language_info": {
   "codemirror_mode": {
    "name": "ipython",
    "version": 3
   },
   "file_extension": ".py",
   "mimetype": "text/x-python",
   "name": "python",
   "nbconvert_exporter": "python",
   "pygments_lexer": "ipython3",
   "version": "3.10.13"
  },
  "papermill": {
   "default_parameters": {},
   "duration": 6.943822,
   "end_time": "2024-07-29T17:06:10.665386",
   "environment_variables": {},
   "exception": null,
   "input_path": "__notebook__.ipynb",
   "output_path": "__notebook__.ipynb",
   "parameters": {},
   "start_time": "2024-07-29T17:06:03.721564",
   "version": "2.5.0"
  }
 },
 "nbformat": 4,
 "nbformat_minor": 5
}
